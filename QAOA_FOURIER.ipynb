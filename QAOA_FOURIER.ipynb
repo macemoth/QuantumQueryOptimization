{
 "cells": [
  {
   "cell_type": "code",
   "execution_count": 1,
   "id": "4b46c05f",
   "metadata": {},
   "outputs": [
    {
     "name": "stderr",
     "output_type": "stream",
     "text": [
      "C:\\Users\\tobia\\anaconda3\\envs\\QAOA_Experiments\\lib\\site-packages\\qiskit\\optimization\\__init__.py:92: DeprecationWarning: The package qiskit.optimization is deprecated. It was moved/refactored to qiskit_optimization (pip install qiskit-optimization). For more information see <https://github.com/Qiskit/qiskit-aqua/blob/master/README.md#migration-guide>\n",
      "  warn_package('optimization', 'qiskit_optimization', 'qiskit-optimization')\n"
     ]
    }
   ],
   "source": [
    "import csv\n",
    "import math\n",
    "import random\n",
    "\n",
    "import matplotlib.pyplot as plt\n",
    "from matplotlib.ticker import MultipleLocator, AutoMinorLocator\n",
    "from qiskit import IBMQ, Aer, execute, ClassicalRegister\n",
    "from qiskit.algorithms import QAOA, NumPyMinimumEigensolver\n",
    "from qiskit.algorithms.optimizers import COBYLA, CG, ISRES, AQGD, BOBYQA, ADAM, GSLS, NELDER_MEAD, NFT, SLSQP, SPSA, \\\n",
    "    TNC, POWELL\n",
    "from qiskit.aqua import aqua_globals\n",
    "from qiskit.optimization.applications.ising.common import sample_most_likely\n",
    "from qiskit.providers.ibmq import least_busy\n",
    "from qiskit.utils import QuantumInstance\n",
    "from qiskit.visualization import plot_histogram\n",
    "from qiskit_optimization.algorithms import MinimumEigenOptimizer\n",
    "from qiskit_optimization.problems import QuadraticProgram\n",
    "import numpy as np\n",
    "import csv\n",
    "import imageio\n",
    "import pandas as pd"
   ]
  },
  {
   "cell_type": "markdown",
   "id": "41961e51",
   "metadata": {},
   "source": [
    "# Methods\n",
    "## What device to use"
   ]
  },
  {
   "cell_type": "code",
   "execution_count": 2,
   "id": "a454a11a",
   "metadata": {},
   "outputs": [],
   "source": [
    "def use_simulator():\n",
    "    aqua_globals.random_seed = 69069\n",
    "    seed = 29\n",
    "    backend = Aer.get_backend('qasm_simulator')\n",
    "    return QuantumInstance(backend, seed_simulator=seed, seed_transpiler=seed), backend\n",
    "\n",
    "\n",
    "def use_online_qasm():\n",
    "    IBMQ.load_account()\n",
    "    provider = IBMQ.get_provider(hub='ibm-q')\n",
    "    backend = provider.get_backend('ibmq_qasm_simulator')\n",
    "    return QuantumInstance(backend, skip_qobj_validation=False), backend\n",
    "\n",
    "\n",
    "def use_real_device():\n",
    "    IBMQ.load_account()\n",
    "    provider = IBMQ.get_provider(hub='ibm-q')\n",
    "    backend = least_busy(provider.backends(filters=lambda x: x.configuration().n_qubits >= 4 and\n",
    "                                                             not x.configuration().simulator and x.status().operational == True))\n",
    "    print(\"Running on current least busy device: \", backend)\n",
    "    return QuantumInstance(backend, skip_qobj_validation=False), backend"
   ]
  },
  {
   "cell_type": "markdown",
   "id": "79222425",
   "metadata": {},
   "source": [
    "## Save data from classical optimizer"
   ]
  },
  {
   "cell_type": "code",
   "execution_count": 3,
   "id": "ced6040e",
   "metadata": {},
   "outputs": [],
   "source": [
    "class Steps:\n",
    "    def __init__(self):\n",
    "        self.steps = []\n",
    "\n",
    "    def next_step(self, eval_count, params, eval_mean, eval_sd):\n",
    "        self.steps.append([eval_count, params, eval_mean, eval_sd])\n",
    "\n",
    "\n",
    "def callback(eval_count, params, eval_mean, eval_sd):\n",
    "    saved_data.next_step(eval_count, params, eval_mean, eval_sd)"
   ]
  },
  {
   "cell_type": "markdown",
   "id": "cc397ec6",
   "metadata": {},
   "source": [
    "## Create QAOA-Instance"
   ]
  },
  {
   "cell_type": "code",
   "execution_count": 4,
   "id": "110552fe",
   "metadata": {},
   "outputs": [],
   "source": [
    "def create_qaoa(instance, p, maxiter=1000, params=None):\n",
    "    optimizer = COBYLA(maxiter=maxiter)\n",
    "    qaoa_instance = QAOA(optimizer=optimizer, initial_point=params,\n",
    "                         reps=p, quantum_instance=instance,\n",
    "                         callback=callback)\n",
    "    return qaoa_instance"
   ]
  },
  {
   "cell_type": "markdown",
   "id": "e94b1b96",
   "metadata": {},
   "source": [
    "## Create random Problems"
   ]
  },
  {
   "cell_type": "code",
   "execution_count": 5,
   "id": "3f3e029b",
   "metadata": {},
   "outputs": [],
   "source": [
    "def create_savings(nr_of_queries, nr_of_plans):\n",
    "    savings = {}\n",
    "    nr_of_plans_each = int(nr_of_plans / nr_of_queries)\n",
    "    for j in range(nr_of_plans):\n",
    "        current_query = math.floor(j / nr_of_plans_each)\n",
    "        first_plan_next_query = (current_query + 1) * nr_of_plans_each\n",
    "        for i in range(first_plan_next_query, nr_of_plans):\n",
    "            savings[j, i] = random.randint(-20, 0)\n",
    "\n",
    "    return savings"
   ]
  },
  {
   "cell_type": "markdown",
   "id": "373acb22",
   "metadata": {},
   "source": [
    "## Create operator from problem"
   ]
  },
  {
   "cell_type": "code",
   "execution_count": 6,
   "id": "6e854221",
   "metadata": {},
   "outputs": [],
   "source": [
    "def create_problem_matrix_and_dict(problem_tuple):\n",
    "    nr_of_queries = problem_tuple[0]\n",
    "    plan_costs = problem_tuple[1]\n",
    "    savings = problem_tuple[2]\n",
    "\n",
    "    nr_of_plans = len(plan_costs)\n",
    "    nr_of_plans_each = nr_of_plans / nr_of_queries\n",
    "\n",
    "    eps = 1\n",
    "    w_min = max(plan_costs) + eps\n",
    "    w_max = w_min\n",
    "    if savings:\n",
    "        sum_savings = sum(savings.values())\n",
    "        w_max = w_min - sum_savings\n",
    "\n",
    "    linear_terms = []\n",
    "    quadratic_terms = {}\n",
    "\n",
    "    for i in range(nr_of_plans):\n",
    "        for j in range(i, nr_of_plans):\n",
    "            query_i = math.floor(i / nr_of_plans_each)\n",
    "            query_j = math.floor(j / nr_of_plans_each)\n",
    "            plan_1 = 'p' + str(i + 1)\n",
    "            plan_2 = 'p' + str(j + 1)\n",
    "            if i == j:\n",
    "                linear_terms.append(plan_costs[i] - w_min)\n",
    "            elif query_i == query_j:\n",
    "                quadratic_terms[plan_1, plan_2] = w_max\n",
    "            else:\n",
    "                tuple_forward = (i, j)\n",
    "                tuple_backward = (j, i)\n",
    "                if tuple_forward in savings:\n",
    "                    quadratic_terms[plan_1, plan_2] = savings[tuple_forward]\n",
    "                elif tuple_backward in savings:\n",
    "                    quadratic_terms[plan_1, plan_2] = savings[tuple_backward]\n",
    "\n",
    "    return linear_terms, quadratic_terms\n",
    "\n",
    "\n",
    "def create_problem_operator(linear_terms, quadratic_terms):\n",
    "    # create a QUBO\n",
    "    qubo = QuadraticProgram()\n",
    "    for i in range(len(linear_terms)):\n",
    "        qubo.binary_var('p' + str(i + 1))\n",
    "\n",
    "    qubo.minimize(linear=linear_terms, quadratic=quadratic_terms)\n",
    "\n",
    "    qubit_op, offset = qubo.to_ising()\n",
    "    return qubit_op, qubo"
   ]
  },
  {
   "cell_type": "markdown",
   "id": "57aae219",
   "metadata": {},
   "source": [
    "## Calc costs from state and problem"
   ]
  },
  {
   "cell_type": "code",
   "execution_count": 7,
   "id": "27da769f",
   "metadata": {},
   "outputs": [],
   "source": [
    "def calc_costs(problem, solution_state):\n",
    "    costs = problem[1]\n",
    "    savings = problem[2]\n",
    "    total_costs = 0\n",
    "    for nr, plan in enumerate(solution_state):\n",
    "        if plan == 1:\n",
    "            total_costs += costs[nr]\n",
    "            for i in range(nr+1, len(solution_state)):\n",
    "                if (nr, i) in savings and solution_state[i] == 1:\n",
    "                    total_costs += savings[nr, i]\n",
    "    return total_costs"
   ]
  },
  {
   "cell_type": "markdown",
   "id": "1e8d28d1",
   "metadata": {},
   "source": [
    "## Outputs"
   ]
  },
  {
   "cell_type": "code",
   "execution_count": 8,
   "id": "6e2c9700",
   "metadata": {},
   "outputs": [],
   "source": [
    "def plot_accuracy(accuracy):\n",
    "    for key in accuracy.keys():\n",
    "        p = key[0]\n",
    "        qbs = key[1]\n",
    "        with open('correct_results.csv', 'a+', newline='') as f:\n",
    "            writer = csv.writer(f)\n",
    "            row_content = [p, qbs, accuracy[key]]\n",
    "            writer.writerow(row_content)\n",
    "            print(f'Problemsize: {qbs}\\nRepetitions: {p}\\nAccuracy: {accuracy[key]}')\n",
    "            \n",
    "\n",
    "def printProblem(problem):\n",
    "    print(\"Costs:\")\n",
    "    print(problem[1])\n",
    "    print(\"Savings:\")\n",
    "    print(problem[2])"
   ]
  },
  {
   "cell_type": "markdown",
   "id": "08827257",
   "metadata": {},
   "source": [
    "# Program random initialization"
   ]
  },
  {
   "cell_type": "code",
   "execution_count": 9,
   "id": "6279d6bd",
   "metadata": {},
   "outputs": [
    {
     "name": "stderr",
     "output_type": "stream",
     "text": [
      "<ipython-input-2-fbf197805b9e>:2: DeprecationWarning: The variable qiskit.aqua.aqua_globals is deprecated. It was moved/refactored to qiskit.utils.algorithm_globals (pip install qiskit-terra). For more information see <https://github.com/Qiskit/qiskit-aqua/blob/master/README.md#migration-guide>\n",
      "  aqua_globals.random_seed = 69069\n"
     ]
    }
   ],
   "source": [
    "quantum_instance, backend = use_simulator()\n",
    "# quantum_instance, backend = use_real_device()\n",
    "# quantum_instance, backend = use_online_qasm()"
   ]
  },
  {
   "cell_type": "code",
   "execution_count": 10,
   "id": "0342b788",
   "metadata": {},
   "outputs": [],
   "source": [
    "problem_sizes_qbs = [4]\n",
    "nr_of_queries = 1\n",
    "nr_of_runs_per_problem = 1\n",
    "max_p = 1\n",
    "accuracy = {}"
   ]
  },
  {
   "cell_type": "code",
   "execution_count": 11,
   "id": "e3d0396b",
   "metadata": {},
   "outputs": [
    {
     "name": "stdout",
     "output_type": "stream",
     "text": [
      "q_sol: [0. 0. 1. 0.], c_sol: [0. 0. 1. 0.]\n",
      "Problemsize: 4\n",
      "Repetitions: 1\n",
      "Accuracy: 1.0\n"
     ]
    }
   ],
   "source": [
    "for p in range(1, max_p + 1):\n",
    "    for nr_of_qbs in problem_sizes_qbs:\n",
    "        for run_nr in range(nr_of_runs_per_problem):     \n",
    "            # Create Problems -------------------------------\n",
    "            # (nr_of_queries, cost_vector, savings_dict)\n",
    "            # (2, [3, 13, 21, 1], {(2, 3): -14})\n",
    "            problem = (nr_of_queries,  np.random.randint(0, 50, nr_of_qbs), create_savings(nr_of_queries, nr_of_qbs))\n",
    "            saved_data = Steps()\n",
    "\n",
    "            # create QUBO-Operator from problem ----------------------\n",
    "            linear, quadratic = create_problem_matrix_and_dict(problem)\n",
    "            problem_operator, qubo = create_problem_operator(linear, quadratic)\n",
    "            # --------------------------------------------------------\n",
    "\n",
    "            # create QAOA and solve problem --------------------------\n",
    "            reps = p  # p\n",
    "            params = None\n",
    "            qaoa = create_qaoa(quantum_instance, reps, params=params)\n",
    "            qaoa_mes = MinimumEigenOptimizer(qaoa)\n",
    "            result = qaoa_mes.solve(qubo)\n",
    "            solution_state = result.x\n",
    "            \n",
    "            opt_params = qaoa.optimal_params\n",
    "            expectation_value = qaoa.get_optimal_cost()\n",
    "            q_costs_qaoa = qaoa.get_optimal_cost()\n",
    "            q_costs_calc = calc_costs(problem, solution_state)\n",
    "            # --------------------------------------------------------\n",
    "\n",
    "            # calculate with classical eigensolver -------------------\n",
    "            npme = NumPyMinimumEigensolver()\n",
    "            exact = MinimumEigenOptimizer(npme)\n",
    "            classical_result = exact.solve(qubo)\n",
    "            classical_solution_state = classical_result.x\n",
    "            classical_costs = classical_result.fval\n",
    "            c_costs_calc = calc_costs(problem, classical_solution_state)\n",
    "            # --------------------------------------------------------\n",
    "            \n",
    "            index = (p, nr_of_qbs)\n",
    "            if q_costs_calc == c_costs_calc:\n",
    "                print(f\"q_sol: {solution_state}, c_sol: {classical_solution_state}\")\n",
    "                if index in accuracy:\n",
    "                    accuracy[index] += 1/nr_of_runs_per_problem\n",
    "                else:\n",
    "                    accuracy[index] = 1/nr_of_runs_per_problem\n",
    "            else:\n",
    "                printProblem(problem)\n",
    "                print(f\"c_state: {classical_solution_state}, c_costs: {c_costs_calc}\")\n",
    "                print(f\"q_state: {solution_state}, q_costs: {q_costs_calc}\")\n",
    "\n",
    "plot_accuracy(accuracy)"
   ]
  },
  {
   "cell_type": "markdown",
   "id": "b594be3e",
   "metadata": {},
   "source": [
    "# FOURIER startegie"
   ]
  },
  {
   "cell_type": "markdown",
   "id": "37040b10",
   "metadata": {},
   "source": [
    "## Device"
   ]
  },
  {
   "cell_type": "code",
   "execution_count": 24,
   "id": "8b8c5a7b",
   "metadata": {},
   "outputs": [],
   "source": [
    "quantum_instance, backend = use_simulator()\n",
    "# quantum_instance, backend = use_real_device()\n",
    "# quantum_instance, backend = use_online_qasm()"
   ]
  },
  {
   "cell_type": "markdown",
   "id": "6c952eb2",
   "metadata": {},
   "source": [
    "## Parameters"
   ]
  },
  {
   "cell_type": "code",
   "execution_count": 13,
   "id": "328b7361",
   "metadata": {},
   "outputs": [],
   "source": [
    "def set_beta_gamma(params):\n",
    "    u = []\n",
    "    v = []\n",
    "    for i, param in enumerate(params):\n",
    "        if i % 2 == 0:\n",
    "            u.append(param)\n",
    "        else:\n",
    "            v.append(param)\n",
    "    \n",
    "    p = len(u)\n",
    "    \n",
    "    g_i = 0\n",
    "    b_i = 0\n",
    "    params = []\n",
    "    for i in range(1, p+2):\n",
    "        for k in range(len(u)):\n",
    "            g_i += u[k] * math.sin( (k-1/2) * (i-1/2) * math.pi/p )\n",
    "            b_i += v[k] * math.cos( (k-1/2) * (i-1/2) * math.pi/p )\n",
    "\n",
    "        params = np.append(params, g_i)\n",
    "        params = np.append(params, b_i)\n",
    "\n",
    "    return params\n",
    "\n",
    "\n",
    "def plot_parameters(params, problem_size):\n",
    "    beta_history = []\n",
    "    gamma_history = []\n",
    "    \n",
    "    for i, value in enumerate(params):\n",
    "        if i % 2 == 0:\n",
    "            history = gamma_history\n",
    "        else:\n",
    "            history = beta_history\n",
    "\n",
    "        history.append(value/math.pi)\n",
    "            \n",
    "    fig, ax = plt.subplots()\n",
    "    beta = beta_history\n",
    "    x = [i for i in range(len(beta))]\n",
    "    ax.plot(x, beta, linestyle='-', marker='o', label=f'F')\n",
    "\n",
    "    ax.legend(loc='center right', fontsize='x-large')    \n",
    "    ax.set_xlabel('Nr of Fs')\n",
    "    ax.set_ylabel('parameter value')\n",
    "    ax.set_title(\"Beta\")\n",
    "    #plt.savefig(f'beta_{problem_size}.pdf')\n",
    "\n",
    "    fig, ax = plt.subplots()\n",
    "    gamma = gamma_history\n",
    "    x = [i for i in range(len(gamma))]\n",
    "    ax.plot(x, gamma, linestyle='-', marker='o', label=f'F')\n",
    "        \n",
    "    ax.legend(loc='center right', fontsize='x-large')    \n",
    "    ax.set_xlabel('Nr of Fs')\n",
    "    ax.set_ylabel('parameter value')\n",
    "    ax.set_title(\"Gamma\")\n",
    "    #plt.savefig(f'gamma_{problem_size}.pdf')"
   ]
  },
  {
   "cell_type": "code",
   "execution_count": 14,
   "id": "8f489eb0",
   "metadata": {},
   "outputs": [],
   "source": [
    "def construct_circuit(qaoa_results, operator, nr_of_qb):\n",
    "    q_circuit = qaoa_results.construct_circuit(qaoa_results.optimal_params, operator)\n",
    "    q_circuit = q_circuit[0]\n",
    "    cr = ClassicalRegister(nr_of_qb, 'c')\n",
    "    q_circuit.add_register(cr)\n",
    "    q_circuit.measure(range(nr_of_qb), range(nr_of_qb))\n",
    "    return q_circuit\n",
    "\n",
    "\n",
    "def run_circuit(qc):\n",
    "    shots = 1000\n",
    "    job = execute(qc, backend, shots=shots)\n",
    "    result = job.result()\n",
    "    return result.get_counts()"
   ]
  },
  {
   "cell_type": "code",
   "execution_count": 27,
   "id": "79fac990",
   "metadata": {},
   "outputs": [],
   "source": [
    "problem_sizes_qbs = [4]\n",
    "nr_of_queries = 1\n",
    "nr_of_runs_per_problem = 10\n",
    "max_p = 1"
   ]
  },
  {
   "cell_type": "code",
   "execution_count": 28,
   "id": "4930bd61",
   "metadata": {},
   "outputs": [],
   "source": [
    "column_names = ['problem_size']\n",
    "beta_gamma_columns = [f'beta_gamma_F{i+1}' for i in range(max_p)]\n",
    "right_solution_columns = [f'right_solution_F{i+1}' for i in range(max_p)]\n",
    "classical_optimizer_columns = [f'classical_optimizer_steps_F{i+1}' for i in range(max_p)]\n",
    "column_names += beta_gamma_columns + right_solution_columns + classical_optimizer_columns"
   ]
  },
  {
   "cell_type": "code",
   "execution_count": 29,
   "id": "cd287800",
   "metadata": {},
   "outputs": [],
   "source": [
    "solutions_df = pd.DataFrame(columns=column_names)"
   ]
  },
  {
   "cell_type": "code",
   "execution_count": 30,
   "id": "3674afa1",
   "metadata": {},
   "outputs": [
    {
     "name": "stdout",
     "output_type": "stream",
     "text": [
      "\n",
      "#######\n",
      "problemsize: 4\n",
      "run nr: 0\n",
      "Nr of repetitions: 1\n",
      "run nr: 1\n",
      "Nr of repetitions: 1\n",
      "run nr: 2\n",
      "Nr of repetitions: 1\n",
      "run nr: 3\n",
      "Nr of repetitions: 1\n",
      "run nr: 4\n",
      "Nr of repetitions: 1\n",
      "run nr: 5\n",
      "Nr of repetitions: 1\n",
      "run nr: 6\n",
      "Nr of repetitions: 1\n",
      "run nr: 7\n",
      "Nr of repetitions: 1\n",
      "run nr: 8\n",
      "Nr of repetitions: 1\n",
      "run nr: 9\n",
      "Nr of repetitions: 1\n"
     ]
    }
   ],
   "source": [
    "for nr_of_qbs in problem_sizes_qbs:\n",
    "    print()\n",
    "    print(\"#######\")\n",
    "    print(f\"problemsize: {nr_of_qbs}\")\n",
    "    for run in range(nr_of_runs_per_problem):\n",
    "        print(f\"run nr: {run}\")\n",
    "        # Create Problems -------------------------------\n",
    "        # (nr_of_queries, cost_vector, savings_dict)\n",
    "        # (2, [3, 13, 21, 1], {(2, 3): -14})\n",
    "        problem = (nr_of_queries,  np.random.randint(0, 50, nr_of_qbs), create_savings(nr_of_queries, nr_of_qbs))\n",
    "        saved_data = Steps()\n",
    "\n",
    "        # create QUBO-Operator from problem ----------------------\n",
    "        linear, quadratic = create_problem_matrix_and_dict(problem)\n",
    "        problem_operator, qubo = create_problem_operator(linear, quadratic)\n",
    "        # --------------------------------------------------------\n",
    "\n",
    "        # calculate with classical eigensolver -------------------\n",
    "        npme = NumPyMinimumEigensolver()\n",
    "        exact = MinimumEigenOptimizer(npme)\n",
    "        classical_result = exact.solve(qubo)\n",
    "        classical_solution_state = classical_result.x\n",
    "        classical_costs = classical_result.fval\n",
    "        c_costs_calc = calc_costs(problem, classical_solution_state)\n",
    "        # --------------------------------------------------------\n",
    "\n",
    "        ############# OPTIMIZATION WITH FOURIER ##################\n",
    "        params = [np.random.uniform(low=-math.pi, high=math.pi),\n",
    "                  np.random.uniform(low=-math.pi, high=math.pi)]\n",
    "\n",
    "        next_row = {column_names[0]:nr_of_qbs}\n",
    "\n",
    "        for i in range(1, max_p+1):\n",
    "            print(f\"Nr of repetitions: {i}\")\n",
    "            saved_data = Steps()\n",
    "            # create QAOA and solve problem ----------------------\n",
    "            reps = i\n",
    "            qaoa = create_qaoa(quantum_instance, reps, params=params)\n",
    "            result = qaoa.compute_minimum_eigenvalue(problem_operator)\n",
    "            solution_state = sample_most_likely(result.eigenstate)\n",
    "            q_costs = qaoa.get_optimal_cost()\n",
    "            q_costs_calc = calc_costs(problem, solution_state)\n",
    "\n",
    "            index = (reps, nr_of_qbs)\n",
    "            right_result = 0\n",
    "            if q_costs_calc == c_costs_calc:\n",
    "                right_result = 1\n",
    "\n",
    "            next_row[beta_gamma_columns[i-1]] = params\n",
    "            next_row[right_solution_columns[i-1]] = right_result\n",
    "            next_row[classical_optimizer_columns[i-1]] = saved_data.steps\n",
    "            params = set_beta_gamma(qaoa.optimal_params)\n",
    "\n",
    "        solutions_df = solutions_df.append(next_row, ignore_index=True)"
   ]
  },
  {
   "cell_type": "code",
   "execution_count": 31,
   "id": "0cb68ac8",
   "metadata": {},
   "outputs": [
    {
     "data": {
      "text/html": [
       "<div>\n",
       "<style scoped>\n",
       "    .dataframe tbody tr th:only-of-type {\n",
       "        vertical-align: middle;\n",
       "    }\n",
       "\n",
       "    .dataframe tbody tr th {\n",
       "        vertical-align: top;\n",
       "    }\n",
       "\n",
       "    .dataframe thead th {\n",
       "        text-align: right;\n",
       "    }\n",
       "</style>\n",
       "<table border=\"1\" class=\"dataframe\">\n",
       "  <thead>\n",
       "    <tr style=\"text-align: right;\">\n",
       "      <th></th>\n",
       "      <th>problem_size</th>\n",
       "      <th>beta_gamma_F1</th>\n",
       "      <th>right_solution_F1</th>\n",
       "      <th>classical_optimizer_steps_F1</th>\n",
       "    </tr>\n",
       "  </thead>\n",
       "  <tbody>\n",
       "    <tr>\n",
       "      <th>0</th>\n",
       "      <td>4</td>\n",
       "      <td>[-1.3086082038729856, -1.170929766564415]</td>\n",
       "      <td>1</td>\n",
       "      <td>[[1, [-0.30411320098960626, -1.138002283111646...</td>\n",
       "    </tr>\n",
       "    <tr>\n",
       "      <th>1</th>\n",
       "      <td>4</td>\n",
       "      <td>[2.4838217396528055, 2.80449306795313]</td>\n",
       "      <td>0</td>\n",
       "      <td>[[1, [2.473028274421791, 2.7515444866998813], ...</td>\n",
       "    </tr>\n",
       "    <tr>\n",
       "      <th>2</th>\n",
       "      <td>4</td>\n",
       "      <td>[-0.6197308748229307, -0.9204597180403149]</td>\n",
       "      <td>1</td>\n",
       "      <td>[[1, [-0.6404541268540429, -0.8395781798795112...</td>\n",
       "    </tr>\n",
       "    <tr>\n",
       "      <th>3</th>\n",
       "      <td>4</td>\n",
       "      <td>[2.187044894795374, -1.9687040520151204]</td>\n",
       "      <td>1</td>\n",
       "      <td>[[1, [3.2130550655847436, -1.9275587818898037]...</td>\n",
       "    </tr>\n",
       "    <tr>\n",
       "      <th>4</th>\n",
       "      <td>4</td>\n",
       "      <td>[-0.46749832191702323, 0.9494489658679504]</td>\n",
       "      <td>0</td>\n",
       "      <td>[[1, [0.7215080826883091, 2.9333272395061933],...</td>\n",
       "    </tr>\n",
       "  </tbody>\n",
       "</table>\n",
       "</div>"
      ],
      "text/plain": [
       "  problem_size                               beta_gamma_F1 right_solution_F1  \\\n",
       "0            4   [-1.3086082038729856, -1.170929766564415]                 1   \n",
       "1            4      [2.4838217396528055, 2.80449306795313]                 0   \n",
       "2            4  [-0.6197308748229307, -0.9204597180403149]                 1   \n",
       "3            4    [2.187044894795374, -1.9687040520151204]                 1   \n",
       "4            4  [-0.46749832191702323, 0.9494489658679504]                 0   \n",
       "\n",
       "                        classical_optimizer_steps_F1  \n",
       "0  [[1, [-0.30411320098960626, -1.138002283111646...  \n",
       "1  [[1, [2.473028274421791, 2.7515444866998813], ...  \n",
       "2  [[1, [-0.6404541268540429, -0.8395781798795112...  \n",
       "3  [[1, [3.2130550655847436, -1.9275587818898037]...  \n",
       "4  [[1, [0.7215080826883091, 2.9333272395061933],...  "
      ]
     },
     "execution_count": 31,
     "metadata": {},
     "output_type": "execute_result"
    }
   ],
   "source": [
    "solutions_df.head()"
   ]
  },
  {
   "cell_type": "code",
   "execution_count": null,
   "id": "65af8c98",
   "metadata": {},
   "outputs": [],
   "source": [
    "solutions_df.to_csv(r'/solution_dataframe_2.csv', index = False, header = True)"
   ]
  },
  {
   "cell_type": "code",
   "execution_count": null,
   "id": "9861ae85",
   "metadata": {},
   "outputs": [],
   "source": []
  }
 ],
 "metadata": {
  "kernelspec": {
   "display_name": "Python [conda env:QAOA_Experiments] *",
   "language": "python",
   "name": "conda-env-QAOA_Experiments-py"
  },
  "language_info": {
   "codemirror_mode": {
    "name": "ipython",
    "version": 3
   },
   "file_extension": ".py",
   "mimetype": "text/x-python",
   "name": "python",
   "nbconvert_exporter": "python",
   "pygments_lexer": "ipython3",
   "version": "3.8.8"
  }
 },
 "nbformat": 4,
 "nbformat_minor": 5
}
